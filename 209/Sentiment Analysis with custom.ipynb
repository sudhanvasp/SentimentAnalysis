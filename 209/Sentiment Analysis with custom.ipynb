{
 "cells": [
  {
   "cell_type": "code",
   "execution_count": 1,
   "metadata": {},
   "outputs": [],
   "source": [
    "import time\n"
   ]
  },
  {
   "cell_type": "code",
   "execution_count": 2,
   "metadata": {},
   "outputs": [
    {
     "name": "stdout",
     "output_type": "stream",
     "text": [
      "1 : Praying to code almighty for a good grade.I hope I don't get a meh score.\n",
      "2 : Praying to code almighty for a good grade.I hope I don't get a meh score.\n",
      "3 : Praying to code almighty for a good grade.I hope I don't get a meh score.\n",
      "4 : Praying to code almighty for a good grade.I hope I don't get a meh score.\n",
      "5 : Praying to code almighty for a good grade.I hope I don't get a meh score.\n",
      "\n",
      " \n",
      "Hope github doesn't crash.\n",
      "Hope Huggingface doesn't crash.\n",
      "Hope my computer doesn't crash.\n",
      "Hope I don't crash.\n",
      "Hope all the above prayers work.\n"
     ]
    }
   ],
   "source": [
    "for i in range(0,5):\n",
    "    print(i+1, \": Praying to code almighty for a good grade.\" + \"I hope I don't get a meh score.\")\n",
    "    time.sleep(0.6)\n",
    "print(\"\\n \\nHope github doesn't crash.\")\n",
    "print(\"Hope Huggingface doesn't crash.\")\n",
    "print(\"Hope my computer doesn't crash.\")\n",
    "print(\"Hope I don't crash.\")\n",
    "print(\"Hope all the above prayers work.\")"
   ]
  },
  {
   "cell_type": "code",
   "execution_count": null,
   "metadata": {},
   "outputs": [],
   "source": [
    "#install pytorch if you dont have it(cpu/cuda)\n",
    "#%pip install torch torchvision\n",
    "#%pip3 install torch torchvision torchaudio --index-url https://download.pytorch.org/whl/cu117"
   ]
  },
  {
   "cell_type": "code",
   "execution_count": null,
   "metadata": {},
   "outputs": [],
   "source": [
    "%pip install transformers\n",
    "%pip install scipy\n",
    "%pip install gradio\n"
   ]
  },
  {
   "cell_type": "code",
   "execution_count": 3,
   "metadata": {},
   "outputs": [],
   "source": [
    "from transformers import AutoTokenizer, AutoModelForSequenceClassification\n",
    "from scipy.special import softmax\n",
    "import gradio as gr"
   ]
  },
  {
   "cell_type": "markdown",
   "metadata": {},
   "source": [
    "The model was trained when username was denoted as @user and the links are replaced with http. So we bow down to the arbitary model throwing tantrums and satisfy its wishes"
   ]
  },
  {
   "cell_type": "code",
   "execution_count": 4,
   "metadata": {},
   "outputs": [],
   "source": [
    "\n",
    "# preprocess tweet as function\n",
    "def preprocess(tweet):\n",
    "    tweet_words = []\n",
    "\n",
    "    for word in tweet.split(' '):\n",
    "        if word.startswith('@') and len(word) > 1:\n",
    "            word = '@user'\n",
    "        \n",
    "        elif word.startswith('http'):\n",
    "            word = \"http\"\n",
    "        tweet_words.append(word)\n",
    "\n",
    "    tweet_proc = \" \".join(tweet_words)\n",
    "    return tweet_proc\n"
   ]
  },
  {
   "cell_type": "code",
   "execution_count": 5,
   "metadata": {},
   "outputs": [
    {
     "name": "stderr",
     "output_type": "stream",
     "text": [
      "Some weights of the model checkpoint at sudhanvasp/Sentiment-Analysis were not used when initializing RobertaForSequenceClassification: ['roberta.pooler.dense.weight', 'roberta.pooler.dense.bias']\n",
      "- This IS expected if you are initializing RobertaForSequenceClassification from the checkpoint of a model trained on another task or with another architecture (e.g. initializing a BertForSequenceClassification model from a BertForPreTraining model).\n",
      "- This IS NOT expected if you are initializing RobertaForSequenceClassification from the checkpoint of a model that you expect to be exactly identical (initializing a BertForSequenceClassification model from a BertForSequenceClassification model).\n"
     ]
    }
   ],
   "source": [
    "# load model and tokenizer\n",
    "#roberta = \"cardiffnlp/twitter-roberta-base-sentiment\" this is the base model\n",
    "roberta = \"sudhanvasp/Sentiment-Analysis\" #this is the custom model that utilizes the base model with additional parameters to improve accuracy and performance\n",
    "\n",
    "\n",
    "model = AutoModelForSequenceClassification.from_pretrained(roberta)\n",
    "tokenizer = AutoTokenizer.from_pretrained(roberta)\n",
    "\n",
    "labels = ['Negative', 'Neutral', 'Positive']\n"
   ]
  },
  {
   "cell_type": "code",
   "execution_count": null,
   "metadata": {},
   "outputs": [],
   "source": [
    "#output as a function if you dont want gradio\n",
    "def sentiment(encoded_tweet):\n",
    "        tweet_proc = preprocess(tweet)\n",
    "        encoded_tweet = tokenizer(tweet_proc, return_tensors='pt')\n",
    "\n",
    "        output = model(**encoded_tweet)\n",
    "\n",
    "        scores = output[0][0].detach().numpy()\n",
    "        scores = softmax(scores)\n",
    "        #storing labels and scores in a dictionary in one line\n",
    "        results = dict(zip(labels, scores))\n",
    "         #print max score and label of the tweet\n",
    "        print(\"Tweet: \", tweet)\n",
    "        print(\"Sentiment: \", labels[scores.argmax()], scores.max())\n",
    "        print(\"\\n\\n\")\n",
    "        print(\"In detail: \")\n",
    "        return results\n",
    "def nograd():\n",
    "        for i in range(0,5):\n",
    "                tweet = input(\"Enter a tweet: \")\n",
    "                tweet_proc = preprocess(tweet)\n",
    "                encoded_tweet = tokenizer(tweet_proc, return_tensors='pt')\n",
    "                sentiment(encoded_tweet)\n",
    "                        \n",
    "\n",
    "        \n",
    "    "
   ]
  },
  {
   "cell_type": "code",
   "execution_count": null,
   "metadata": {},
   "outputs": [],
   "source": []
  },
  {
   "cell_type": "code",
   "execution_count": 6,
   "metadata": {},
   "outputs": [],
   "source": [
    "\n",
    "\n",
    "# Define the Gradio interface\n",
    "def predict_sentiment(tweet):\n",
    "    tweet_proc = preprocess(tweet)\n",
    "    encoded_tweet = tokenizer(tweet_proc, return_tensors='pt')\n",
    "\n",
    "    output = model(**encoded_tweet)\n",
    "\n",
    "    scores = output[0][0].detach().numpy()\n",
    "    scores = softmax(scores)\n",
    "\n",
    "    # Get the sentiment label and score\n",
    "    sentiment_label = labels[scores.argmax()]\n",
    "    sentiment_score = scores.max()\n",
    "\n",
    "    return sentiment_label, sentiment_score\n"
   ]
  },
  {
   "cell_type": "code",
   "execution_count": 8,
   "metadata": {},
   "outputs": [
    {
     "name": "stdout",
     "output_type": "stream",
     "text": [
      "Running on local URL:  http://127.0.0.1:7861\n",
      "\n",
      "To create a public link, set `share=True` in `launch()`.\n"
     ]
    },
    {
     "data": {
      "text/html": [
       "<div><iframe src=\"http://127.0.0.1:7861/\" width=\"100%\" height=\"500\" allow=\"autoplay; camera; microphone; clipboard-read; clipboard-write;\" frameborder=\"0\" allowfullscreen></iframe></div>"
      ],
      "text/plain": [
       "<IPython.core.display.HTML object>"
      ]
     },
     "metadata": {},
     "output_type": "display_data"
    },
    {
     "data": {
      "text/plain": []
     },
     "execution_count": 8,
     "metadata": {},
     "output_type": "execute_result"
    }
   ],
   "source": [
    "\n",
    "# Create a Gradio interface\n",
    "iface = gr.Interface(\n",
    "    fn=predict_sentiment,\n",
    "    inputs=\"text\",\n",
    "    outputs=[gr.components.Textbox(label=\"Sentiment Label\"),gr.components.Textbox(label=\"Sentiment Score\")],\n",
    "    title=\"Sentiment Analysis\",\n",
    "    description=\"Enter a tweet, and this model will predict its sentiment.\",\n",
    ")\n",
    "\n",
    "# Launch the Gradio interface\n",
    "#iface.launch(share=True)\n",
    "iface.launch()"
   ]
  },
  {
   "cell_type": "code",
   "execution_count": null,
   "metadata": {},
   "outputs": [],
   "source": []
  }
 ],
 "metadata": {
  "kernelspec": {
   "display_name": "Python 3",
   "language": "python",
   "name": "python3"
  },
  "language_info": {
   "codemirror_mode": {
    "name": "ipython",
    "version": 3
   },
   "file_extension": ".py",
   "mimetype": "text/x-python",
   "name": "python",
   "nbconvert_exporter": "python",
   "pygments_lexer": "ipython3",
   "version": "3.11.2"
  },
  "orig_nbformat": 4
 },
 "nbformat": 4,
 "nbformat_minor": 2
}
