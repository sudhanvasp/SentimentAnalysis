{
 "cells": [
  {
   "cell_type": "code",
   "execution_count": null,
   "metadata": {},
   "outputs": [],
   "source": [
    "import time\n"
   ]
  },
  {
   "cell_type": "code",
   "execution_count": null,
   "metadata": {},
   "outputs": [],
   "source": [
    "for i in range(0,5):\n",
    "    print(i+1, \": Praying to code almighty for a good grade.\" + \"I hope I don't get a meh score.\")\n",
    "    time.sleep(0.6)\n",
    "print(\"\\n \\nHope github doesn't crash.\")\n",
    "print(\"Hope Huggingface doesn't crash.\")\n",
    "print(\"Hope my computer doesn't crash.\")\n",
    "print(\"Hope I don't crash.\")\n",
    "print(\"Hope all the above prayers work.\")"
   ]
  },
  {
   "cell_type": "code",
   "execution_count": null,
   "metadata": {},
   "outputs": [],
   "source": [
    "#install pytorch if you dont have it(cpu/cuda)\n",
    "#%pip install torch torchvision\n",
    "#%pip3 install torch torchvision torchaudio --index-url https://download.pytorch.org/whl/cu117"
   ]
  },
  {
   "cell_type": "code",
   "execution_count": 1,
   "metadata": {},
   "outputs": [
    {
     "name": "stdout",
     "output_type": "stream",
     "text": [
      "Requirement already satisfied: transformers in c:\\users\\sudhanvasp\\appdata\\local\\programs\\python\\python311\\lib\\site-packages (4.33.1)\n",
      "Requirement already satisfied: filelock in c:\\users\\sudhanvasp\\appdata\\local\\programs\\python\\python311\\lib\\site-packages (from transformers) (3.9.0)\n",
      "Requirement already satisfied: huggingface-hub<1.0,>=0.15.1 in c:\\users\\sudhanvasp\\appdata\\local\\programs\\python\\python311\\lib\\site-packages (from transformers) (0.17.1)\n",
      "Requirement already satisfied: numpy>=1.17 in c:\\users\\sudhanvasp\\appdata\\local\\programs\\python\\python311\\lib\\site-packages (from transformers) (1.23.5)\n",
      "Requirement already satisfied: packaging>=20.0 in c:\\users\\sudhanvasp\\appdata\\roaming\\python\\python311\\site-packages (from transformers) (23.1)\n",
      "Requirement already satisfied: pyyaml>=5.1 in c:\\users\\sudhanvasp\\appdata\\local\\programs\\python\\python311\\lib\\site-packages (from transformers) (6.0)\n",
      "Requirement already satisfied: regex!=2019.12.17 in c:\\users\\sudhanvasp\\appdata\\local\\programs\\python\\python311\\lib\\site-packages (from transformers) (2023.3.23)\n",
      "Requirement already satisfied: requests in c:\\users\\sudhanvasp\\appdata\\local\\programs\\python\\python311\\lib\\site-packages (from transformers) (2.28.2)\n",
      "Requirement already satisfied: tokenizers!=0.11.3,<0.14,>=0.11.1 in c:\\users\\sudhanvasp\\appdata\\local\\programs\\python\\python311\\lib\\site-packages (from transformers) (0.13.3)\n",
      "Requirement already satisfied: safetensors>=0.3.1 in c:\\users\\sudhanvasp\\appdata\\local\\programs\\python\\python311\\lib\\site-packages (from transformers) (0.3.3)\n",
      "Requirement already satisfied: tqdm>=4.27 in c:\\users\\sudhanvasp\\appdata\\local\\programs\\python\\python311\\lib\\site-packages (from transformers) (4.65.0)\n",
      "Requirement already satisfied: fsspec in c:\\users\\sudhanvasp\\appdata\\local\\programs\\python\\python311\\lib\\site-packages (from huggingface-hub<1.0,>=0.15.1->transformers) (2023.4.0)\n",
      "Requirement already satisfied: typing-extensions>=3.7.4.3 in c:\\users\\sudhanvasp\\appdata\\local\\programs\\python\\python311\\lib\\site-packages (from huggingface-hub<1.0,>=0.15.1->transformers) (4.8.0)\n",
      "Requirement already satisfied: colorama in c:\\users\\sudhanvasp\\appdata\\local\\programs\\python\\python311\\lib\\site-packages (from tqdm>=4.27->transformers) (0.4.6)\n",
      "Requirement already satisfied: charset-normalizer<4,>=2 in c:\\users\\sudhanvasp\\appdata\\local\\programs\\python\\python311\\lib\\site-packages (from requests->transformers) (3.1.0)\n",
      "Requirement already satisfied: idna<4,>=2.5 in c:\\users\\sudhanvasp\\appdata\\local\\programs\\python\\python311\\lib\\site-packages (from requests->transformers) (2.10)\n",
      "Requirement already satisfied: urllib3<1.27,>=1.21.1 in c:\\users\\sudhanvasp\\appdata\\local\\programs\\python\\python311\\lib\\site-packages (from requests->transformers) (1.26.15)\n",
      "Requirement already satisfied: certifi>=2017.4.17 in c:\\users\\sudhanvasp\\appdata\\local\\programs\\python\\python311\\lib\\site-packages (from requests->transformers) (2022.12.7)\n",
      "Note: you may need to restart the kernel to use updated packages.\n"
     ]
    },
    {
     "name": "stderr",
     "output_type": "stream",
     "text": [
      "\n",
      "[notice] A new release of pip is available: 23.1.2 -> 23.2.1\n",
      "[notice] To update, run: python.exe -m pip install --upgrade pip\n"
     ]
    },
    {
     "name": "stdout",
     "output_type": "stream",
     "text": [
      "Note: you may need to restart the kernel to use updated packages.Requirement already satisfied: scipy in c:\\users\\sudhanvasp\\appdata\\local\\programs\\python\\python311\\lib\\site-packages (1.10.1)\n",
      "Requirement already satisfied: numpy<1.27.0,>=1.19.5 in c:\\users\\sudhanvasp\\appdata\\local\\programs\\python\\python311\\lib\\site-packages (from scipy) (1.23.5)\n",
      "\n"
     ]
    },
    {
     "name": "stderr",
     "output_type": "stream",
     "text": [
      "\n",
      "[notice] A new release of pip is available: 23.1.2 -> 23.2.1\n",
      "[notice] To update, run: python.exe -m pip install --upgrade pip\n"
     ]
    },
    {
     "name": "stdout",
     "output_type": "stream",
     "text": [
      "Note: you may need to restart the kernel to use updated packages.\n",
      "Requirement already satisfied: gradio in c:\\users\\sudhanvasp\\appdata\\local\\programs\\python\\python311\\lib\\site-packages (3.44.4)\n",
      "Requirement already satisfied: aiofiles<24.0,>=22.0 in c:\\users\\sudhanvasp\\appdata\\local\\programs\\python\\python311\\lib\\site-packages (from gradio) (23.1.0)\n",
      "Requirement already satisfied: altair<6.0,>=4.2.0 in c:\\users\\sudhanvasp\\appdata\\local\\programs\\python\\python311\\lib\\site-packages (from gradio) (5.1.1)\n",
      "Requirement already satisfied: fastapi in c:\\users\\sudhanvasp\\appdata\\local\\programs\\python\\python311\\lib\\site-packages (from gradio) (0.103.1)\n",
      "Requirement already satisfied: ffmpy in c:\\users\\sudhanvasp\\appdata\\local\\programs\\python\\python311\\lib\\site-packages (from gradio) (0.3.1)\n",
      "Requirement already satisfied: gradio-client==0.5.1 in c:\\users\\sudhanvasp\\appdata\\local\\programs\\python\\python311\\lib\\site-packages (from gradio) (0.5.1)\n",
      "Requirement already satisfied: httpx in c:\\users\\sudhanvasp\\appdata\\local\\programs\\python\\python311\\lib\\site-packages (from gradio) (0.24.0)\n",
      "Requirement already satisfied: huggingface-hub>=0.14.0 in c:\\users\\sudhanvasp\\appdata\\local\\programs\\python\\python311\\lib\\site-packages (from gradio) (0.17.1)\n",
      "Requirement already satisfied: importlib-resources<7.0,>=1.3 in c:\\users\\sudhanvasp\\appdata\\local\\programs\\python\\python311\\lib\\site-packages (from gradio) (6.0.1)\n",
      "Requirement already satisfied: jinja2<4.0 in c:\\users\\sudhanvasp\\appdata\\local\\programs\\python\\python311\\lib\\site-packages (from gradio) (3.1.2)\n",
      "Requirement already satisfied: markupsafe~=2.0 in c:\\users\\sudhanvasp\\appdata\\local\\programs\\python\\python311\\lib\\site-packages (from gradio) (2.1.2)\n",
      "Requirement already satisfied: matplotlib~=3.0 in c:\\users\\sudhanvasp\\appdata\\local\\programs\\python\\python311\\lib\\site-packages (from gradio) (3.7.1)\n",
      "Requirement already satisfied: numpy~=1.0 in c:\\users\\sudhanvasp\\appdata\\local\\programs\\python\\python311\\lib\\site-packages (from gradio) (1.23.5)\n",
      "Requirement already satisfied: orjson~=3.0 in c:\\users\\sudhanvasp\\appdata\\local\\programs\\python\\python311\\lib\\site-packages (from gradio) (3.9.7)\n",
      "Requirement already satisfied: packaging in c:\\users\\sudhanvasp\\appdata\\roaming\\python\\python311\\site-packages (from gradio) (23.1)\n",
      "Requirement already satisfied: pandas<3.0,>=1.0 in c:\\users\\sudhanvasp\\appdata\\local\\programs\\python\\python311\\lib\\site-packages (from gradio) (2.0.0)\n",
      "Requirement already satisfied: pillow<11.0,>=8.0 in c:\\users\\sudhanvasp\\appdata\\local\\programs\\python\\python311\\lib\\site-packages (from gradio) (9.4.0)\n",
      "Requirement already satisfied: pydantic!=1.8,!=1.8.1,!=2.0.0,!=2.0.1,<3.0.0,>=1.7.4 in c:\\users\\sudhanvasp\\appdata\\local\\programs\\python\\python311\\lib\\site-packages (from gradio) (2.3.0)\n",
      "Requirement already satisfied: pydub in c:\\users\\sudhanvasp\\appdata\\local\\programs\\python\\python311\\lib\\site-packages (from gradio) (0.25.1)\n",
      "Requirement already satisfied: python-multipart in c:\\users\\sudhanvasp\\appdata\\local\\programs\\python\\python311\\lib\\site-packages (from gradio) (0.0.6)\n",
      "Requirement already satisfied: pyyaml<7.0,>=5.0 in c:\\users\\sudhanvasp\\appdata\\local\\programs\\python\\python311\\lib\\site-packages (from gradio) (6.0)\n",
      "Requirement already satisfied: requests~=2.0 in c:\\users\\sudhanvasp\\appdata\\local\\programs\\python\\python311\\lib\\site-packages (from gradio) (2.28.2)\n",
      "Requirement already satisfied: semantic-version~=2.0 in c:\\users\\sudhanvasp\\appdata\\local\\programs\\python\\python311\\lib\\site-packages (from gradio) (2.10.0)\n",
      "Requirement already satisfied: typing-extensions~=4.0 in c:\\users\\sudhanvasp\\appdata\\local\\programs\\python\\python311\\lib\\site-packages (from gradio) (4.8.0)\n",
      "Requirement already satisfied: uvicorn>=0.14.0 in c:\\users\\sudhanvasp\\appdata\\local\\programs\\python\\python311\\lib\\site-packages (from gradio) (0.23.2)\n",
      "Requirement already satisfied: websockets<12.0,>=10.0 in c:\\users\\sudhanvasp\\appdata\\local\\programs\\python\\python311\\lib\\site-packages (from gradio) (11.0.3)\n",
      "Requirement already satisfied: fsspec in c:\\users\\sudhanvasp\\appdata\\local\\programs\\python\\python311\\lib\\site-packages (from gradio-client==0.5.1->gradio) (2023.4.0)\n",
      "Requirement already satisfied: jsonschema>=3.0 in c:\\users\\sudhanvasp\\appdata\\local\\programs\\python\\python311\\lib\\site-packages (from altair<6.0,>=4.2.0->gradio) (4.19.0)\n",
      "Requirement already satisfied: toolz in c:\\users\\sudhanvasp\\appdata\\local\\programs\\python\\python311\\lib\\site-packages (from altair<6.0,>=4.2.0->gradio) (0.12.0)\n",
      "Requirement already satisfied: filelock in c:\\users\\sudhanvasp\\appdata\\local\\programs\\python\\python311\\lib\\site-packages (from huggingface-hub>=0.14.0->gradio) (3.9.0)\n",
      "Requirement already satisfied: tqdm>=4.42.1 in c:\\users\\sudhanvasp\\appdata\\local\\programs\\python\\python311\\lib\\site-packages (from huggingface-hub>=0.14.0->gradio) (4.65.0)\n",
      "Requirement already satisfied: contourpy>=1.0.1 in c:\\users\\sudhanvasp\\appdata\\local\\programs\\python\\python311\\lib\\site-packages (from matplotlib~=3.0->gradio) (1.0.7)\n",
      "Requirement already satisfied: cycler>=0.10 in c:\\users\\sudhanvasp\\appdata\\local\\programs\\python\\python311\\lib\\site-packages (from matplotlib~=3.0->gradio) (0.10.0)\n",
      "Requirement already satisfied: fonttools>=4.22.0 in c:\\users\\sudhanvasp\\appdata\\local\\programs\\python\\python311\\lib\\site-packages (from matplotlib~=3.0->gradio) (4.39.3)\n",
      "Requirement already satisfied: kiwisolver>=1.0.1 in c:\\users\\sudhanvasp\\appdata\\local\\programs\\python\\python311\\lib\\site-packages (from matplotlib~=3.0->gradio) (1.4.4)\n",
      "Requirement already satisfied: pyparsing>=2.3.1 in c:\\users\\sudhanvasp\\appdata\\local\\programs\\python\\python311\\lib\\site-packages (from matplotlib~=3.0->gradio) (2.4.7)\n",
      "Requirement already satisfied: python-dateutil>=2.7 in c:\\users\\sudhanvasp\\appdata\\local\\programs\\python\\python311\\lib\\site-packages (from matplotlib~=3.0->gradio) (2.8.2)\n",
      "Requirement already satisfied: pytz>=2020.1 in c:\\users\\sudhanvasp\\appdata\\local\\programs\\python\\python311\\lib\\site-packages (from pandas<3.0,>=1.0->gradio) (2023.3)\n",
      "Requirement already satisfied: tzdata>=2022.1 in c:\\users\\sudhanvasp\\appdata\\local\\programs\\python\\python311\\lib\\site-packages (from pandas<3.0,>=1.0->gradio) (2023.3)\n",
      "Requirement already satisfied: annotated-types>=0.4.0 in c:\\users\\sudhanvasp\\appdata\\local\\programs\\python\\python311\\lib\\site-packages (from pydantic!=1.8,!=1.8.1,!=2.0.0,!=2.0.1,<3.0.0,>=1.7.4->gradio) (0.5.0)\n",
      "Requirement already satisfied: pydantic-core==2.6.3 in c:\\users\\sudhanvasp\\appdata\\local\\programs\\python\\python311\\lib\\site-packages (from pydantic!=1.8,!=1.8.1,!=2.0.0,!=2.0.1,<3.0.0,>=1.7.4->gradio) (2.6.3)\n",
      "Requirement already satisfied: charset-normalizer<4,>=2 in c:\\users\\sudhanvasp\\appdata\\local\\programs\\python\\python311\\lib\\site-packages (from requests~=2.0->gradio) (3.1.0)\n",
      "Requirement already satisfied: idna<4,>=2.5 in c:\\users\\sudhanvasp\\appdata\\local\\programs\\python\\python311\\lib\\site-packages (from requests~=2.0->gradio) (2.10)\n",
      "Requirement already satisfied: urllib3<1.27,>=1.21.1 in c:\\users\\sudhanvasp\\appdata\\local\\programs\\python\\python311\\lib\\site-packages (from requests~=2.0->gradio) (1.26.15)\n",
      "Requirement already satisfied: certifi>=2017.4.17 in c:\\users\\sudhanvasp\\appdata\\local\\programs\\python\\python311\\lib\\site-packages (from requests~=2.0->gradio) (2022.12.7)\n",
      "Requirement already satisfied: click>=7.0 in c:\\users\\sudhanvasp\\appdata\\local\\programs\\python\\python311\\lib\\site-packages (from uvicorn>=0.14.0->gradio) (8.1.7)\n",
      "Requirement already satisfied: h11>=0.8 in c:\\users\\sudhanvasp\\appdata\\local\\programs\\python\\python311\\lib\\site-packages (from uvicorn>=0.14.0->gradio) (0.14.0)\n",
      "Requirement already satisfied: anyio<4.0.0,>=3.7.1 in c:\\users\\sudhanvasp\\appdata\\local\\programs\\python\\python311\\lib\\site-packages (from fastapi->gradio) (3.7.1)\n",
      "Requirement already satisfied: starlette<0.28.0,>=0.27.0 in c:\\users\\sudhanvasp\\appdata\\local\\programs\\python\\python311\\lib\\site-packages (from fastapi->gradio) (0.27.0)\n",
      "Requirement already satisfied: httpcore<0.18.0,>=0.15.0 in c:\\users\\sudhanvasp\\appdata\\local\\programs\\python\\python311\\lib\\site-packages (from httpx->gradio) (0.17.0)\n",
      "Requirement already satisfied: sniffio in c:\\users\\sudhanvasp\\appdata\\local\\programs\\python\\python311\\lib\\site-packages (from httpx->gradio) (1.3.0)\n",
      "Requirement already satisfied: colorama in c:\\users\\sudhanvasp\\appdata\\local\\programs\\python\\python311\\lib\\site-packages (from click>=7.0->uvicorn>=0.14.0->gradio) (0.4.6)\n",
      "Requirement already satisfied: six in c:\\users\\sudhanvasp\\appdata\\local\\programs\\python\\python311\\lib\\site-packages (from cycler>=0.10->matplotlib~=3.0->gradio) (1.16.0)\n",
      "Requirement already satisfied: attrs>=22.2.0 in c:\\users\\sudhanvasp\\appdata\\local\\programs\\python\\python311\\lib\\site-packages (from jsonschema>=3.0->altair<6.0,>=4.2.0->gradio) (23.1.0)\n",
      "Requirement already satisfied: jsonschema-specifications>=2023.03.6 in c:\\users\\sudhanvasp\\appdata\\local\\programs\\python\\python311\\lib\\site-packages (from jsonschema>=3.0->altair<6.0,>=4.2.0->gradio) (2023.7.1)\n",
      "Requirement already satisfied: referencing>=0.28.4 in c:\\users\\sudhanvasp\\appdata\\local\\programs\\python\\python311\\lib\\site-packages (from jsonschema>=3.0->altair<6.0,>=4.2.0->gradio) (0.30.2)\n",
      "Requirement already satisfied: rpds-py>=0.7.1 in c:\\users\\sudhanvasp\\appdata\\local\\programs\\python\\python311\\lib\\site-packages (from jsonschema>=3.0->altair<6.0,>=4.2.0->gradio) (0.10.2)\n"
     ]
    },
    {
     "name": "stderr",
     "output_type": "stream",
     "text": [
      "\n",
      "[notice] A new release of pip is available: 23.1.2 -> 23.2.1\n",
      "[notice] To update, run: python.exe -m pip install --upgrade pip\n"
     ]
    },
    {
     "name": "stdout",
     "output_type": "stream",
     "text": [
      "Requirement already satisfied: gradio in c:\\users\\sudhanvasp\\appdata\\local\\programs\\python\\python311\\lib\\site-packages (3.44.4)\n",
      "Requirement already satisfied: plotly in c:\\users\\sudhanvasp\\appdata\\local\\programs\\python\\python311\\lib\\site-packages (5.14.1)\n",
      "Collecting yfinance\n",
      "  Downloading yfinance-0.2.28-py2.py3-none-any.whl (65 kB)\n",
      "                                              0.0/65.3 kB ? eta -:--:--\n",
      "     ---------------------------------------- 65.3/65.3 kB 3.7 MB/s eta 0:00:00\n",
      "Requirement already satisfied: aiofiles<24.0,>=22.0 in c:\\users\\sudhanvasp\\appdata\\local\\programs\\python\\python311\\lib\\site-packages (from gradio) (23.1.0)\n",
      "Requirement already satisfied: altair<6.0,>=4.2.0 in c:\\users\\sudhanvasp\\appdata\\local\\programs\\python\\python311\\lib\\site-packages (from gradio) (5.1.1)\n",
      "Requirement already satisfied: fastapi in c:\\users\\sudhanvasp\\appdata\\local\\programs\\python\\python311\\lib\\site-packages (from gradio) (0.103.1)\n",
      "Requirement already satisfied: ffmpy in c:\\users\\sudhanvasp\\appdata\\local\\programs\\python\\python311\\lib\\site-packages (from gradio) (0.3.1)\n",
      "Requirement already satisfied: gradio-client==0.5.1 in c:\\users\\sudhanvasp\\appdata\\local\\programs\\python\\python311\\lib\\site-packages (from gradio) (0.5.1)\n",
      "Requirement already satisfied: httpx in c:\\users\\sudhanvasp\\appdata\\local\\programs\\python\\python311\\lib\\site-packages (from gradio) (0.24.0)\n",
      "Requirement already satisfied: huggingface-hub>=0.14.0 in c:\\users\\sudhanvasp\\appdata\\local\\programs\\python\\python311\\lib\\site-packages (from gradio) (0.17.1)\n",
      "Requirement already satisfied: importlib-resources<7.0,>=1.3 in c:\\users\\sudhanvasp\\appdata\\local\\programs\\python\\python311\\lib\\site-packages (from gradio) (6.0.1)\n",
      "Requirement already satisfied: jinja2<4.0 in c:\\users\\sudhanvasp\\appdata\\local\\programs\\python\\python311\\lib\\site-packages (from gradio) (3.1.2)\n",
      "Requirement already satisfied: markupsafe~=2.0 in c:\\users\\sudhanvasp\\appdata\\local\\programs\\python\\python311\\lib\\site-packages (from gradio) (2.1.2)\n",
      "Requirement already satisfied: matplotlib~=3.0 in c:\\users\\sudhanvasp\\appdata\\local\\programs\\python\\python311\\lib\\site-packages (from gradio) (3.7.1)\n",
      "Requirement already satisfied: numpy~=1.0 in c:\\users\\sudhanvasp\\appdata\\local\\programs\\python\\python311\\lib\\site-packages (from gradio) (1.23.5)\n",
      "Requirement already satisfied: orjson~=3.0 in c:\\users\\sudhanvasp\\appdata\\local\\programs\\python\\python311\\lib\\site-packages (from gradio) (3.9.7)\n",
      "Requirement already satisfied: packaging in c:\\users\\sudhanvasp\\appdata\\roaming\\python\\python311\\site-packages (from gradio) (23.1)\n",
      "Requirement already satisfied: pandas<3.0,>=1.0 in c:\\users\\sudhanvasp\\appdata\\local\\programs\\python\\python311\\lib\\site-packages (from gradio) (2.0.0)\n",
      "Requirement already satisfied: pillow<11.0,>=8.0 in c:\\users\\sudhanvasp\\appdata\\local\\programs\\python\\python311\\lib\\site-packages (from gradio) (9.4.0)\n",
      "Requirement already satisfied: pydantic!=1.8,!=1.8.1,!=2.0.0,!=2.0.1,<3.0.0,>=1.7.4 in c:\\users\\sudhanvasp\\appdata\\local\\programs\\python\\python311\\lib\\site-packages (from gradio) (2.3.0)\n",
      "Requirement already satisfied: pydub in c:\\users\\sudhanvasp\\appdata\\local\\programs\\python\\python311\\lib\\site-packages (from gradio) (0.25.1)\n",
      "Requirement already satisfied: python-multipart in c:\\users\\sudhanvasp\\appdata\\local\\programs\\python\\python311\\lib\\site-packages (from gradio) (0.0.6)\n",
      "Requirement already satisfied: pyyaml<7.0,>=5.0 in c:\\users\\sudhanvasp\\appdata\\local\\programs\\python\\python311\\lib\\site-packages (from gradio) (6.0)\n",
      "Requirement already satisfied: requests~=2.0 in c:\\users\\sudhanvasp\\appdata\\local\\programs\\python\\python311\\lib\\site-packages (from gradio) (2.28.2)\n",
      "Requirement already satisfied: semantic-version~=2.0 in c:\\users\\sudhanvasp\\appdata\\local\\programs\\python\\python311\\lib\\site-packages (from gradio) (2.10.0)\n",
      "Requirement already satisfied: typing-extensions~=4.0 in c:\\users\\sudhanvasp\\appdata\\local\\programs\\python\\python311\\lib\\site-packages (from gradio) (4.8.0)\n",
      "Requirement already satisfied: uvicorn>=0.14.0 in c:\\users\\sudhanvasp\\appdata\\local\\programs\\python\\python311\\lib\\site-packages (from gradio) (0.23.2)\n",
      "Requirement already satisfied: websockets<12.0,>=10.0 in c:\\users\\sudhanvasp\\appdata\\local\\programs\\python\\python311\\lib\\site-packages (from gradio) (11.0.3)\n",
      "Requirement already satisfied: fsspec in c:\\users\\sudhanvasp\\appdata\\local\\programs\\python\\python311\\lib\\site-packages (from gradio-client==0.5.1->gradio) (2023.4.0)\n",
      "Requirement already satisfied: tenacity>=6.2.0 in c:\\users\\sudhanvasp\\appdata\\local\\programs\\python\\python311\\lib\\site-packages (from plotly) (8.2.2)\n",
      "Collecting requests~=2.0 (from gradio)\n",
      "  Using cached requests-2.31.0-py3-none-any.whl (62 kB)\n",
      "Collecting multitasking>=0.0.7 (from yfinance)\n",
      "  Downloading multitasking-0.0.11-py3-none-any.whl (8.5 kB)\n",
      "Collecting lxml>=4.9.1 (from yfinance)\n",
      "  Downloading lxml-4.9.3-cp311-cp311-win_amd64.whl (3.8 MB)\n",
      "                                              0.0/3.8 MB ? eta -:--:--\n",
      "     ---                                      0.4/3.8 MB 11.2 MB/s eta 0:00:01\n",
      "     --------------                           1.4/3.8 MB 17.2 MB/s eta 0:00:01\n",
      "     ---------------------------------------  3.8/3.8 MB 30.1 MB/s eta 0:00:01\n",
      "     ---------------------------------------- 3.8/3.8 MB 26.7 MB/s eta 0:00:00\n",
      "Collecting appdirs>=1.4.4 (from yfinance)\n",
      "  Downloading appdirs-1.4.4-py2.py3-none-any.whl (9.6 kB)\n",
      "Requirement already satisfied: pytz>=2022.5 in c:\\users\\sudhanvasp\\appdata\\local\\programs\\python\\python311\\lib\\site-packages (from yfinance) (2023.3)\n",
      "Collecting frozendict>=2.3.4 (from yfinance)\n",
      "  Downloading frozendict-2.3.8-py311-none-any.whl (14 kB)\n",
      "Requirement already satisfied: beautifulsoup4>=4.11.1 in c:\\users\\sudhanvasp\\appdata\\local\\programs\\python\\python311\\lib\\site-packages (from yfinance) (4.12.2)\n",
      "Collecting html5lib>=1.1 (from yfinance)\n",
      "  Using cached html5lib-1.1-py2.py3-none-any.whl (112 kB)\n",
      "Requirement already satisfied: jsonschema>=3.0 in c:\\users\\sudhanvasp\\appdata\\local\\programs\\python\\python311\\lib\\site-packages (from altair<6.0,>=4.2.0->gradio) (4.19.0)\n",
      "Requirement already satisfied: toolz in c:\\users\\sudhanvasp\\appdata\\local\\programs\\python\\python311\\lib\\site-packages (from altair<6.0,>=4.2.0->gradio) (0.12.0)\n",
      "Requirement already satisfied: soupsieve>1.2 in c:\\users\\sudhanvasp\\appdata\\local\\programs\\python\\python311\\lib\\site-packages (from beautifulsoup4>=4.11.1->yfinance) (2.5)\n",
      "Requirement already satisfied: six>=1.9 in c:\\users\\sudhanvasp\\appdata\\local\\programs\\python\\python311\\lib\\site-packages (from html5lib>=1.1->yfinance) (1.16.0)\n",
      "Requirement already satisfied: webencodings in c:\\users\\sudhanvasp\\appdata\\local\\programs\\python\\python311\\lib\\site-packages (from html5lib>=1.1->yfinance) (0.5.1)\n",
      "Requirement already satisfied: filelock in c:\\users\\sudhanvasp\\appdata\\local\\programs\\python\\python311\\lib\\site-packages (from huggingface-hub>=0.14.0->gradio) (3.9.0)\n",
      "Requirement already satisfied: tqdm>=4.42.1 in c:\\users\\sudhanvasp\\appdata\\local\\programs\\python\\python311\\lib\\site-packages (from huggingface-hub>=0.14.0->gradio) (4.65.0)\n",
      "Requirement already satisfied: contourpy>=1.0.1 in c:\\users\\sudhanvasp\\appdata\\local\\programs\\python\\python311\\lib\\site-packages (from matplotlib~=3.0->gradio) (1.0.7)\n",
      "Requirement already satisfied: cycler>=0.10 in c:\\users\\sudhanvasp\\appdata\\local\\programs\\python\\python311\\lib\\site-packages (from matplotlib~=3.0->gradio) (0.10.0)\n",
      "Requirement already satisfied: fonttools>=4.22.0 in c:\\users\\sudhanvasp\\appdata\\local\\programs\\python\\python311\\lib\\site-packages (from matplotlib~=3.0->gradio) (4.39.3)\n",
      "Requirement already satisfied: kiwisolver>=1.0.1 in c:\\users\\sudhanvasp\\appdata\\local\\programs\\python\\python311\\lib\\site-packages (from matplotlib~=3.0->gradio) (1.4.4)\n",
      "Requirement already satisfied: pyparsing>=2.3.1 in c:\\users\\sudhanvasp\\appdata\\local\\programs\\python\\python311\\lib\\site-packages (from matplotlib~=3.0->gradio) (2.4.7)\n",
      "Requirement already satisfied: python-dateutil>=2.7 in c:\\users\\sudhanvasp\\appdata\\local\\programs\\python\\python311\\lib\\site-packages (from matplotlib~=3.0->gradio) (2.8.2)\n",
      "Requirement already satisfied: tzdata>=2022.1 in c:\\users\\sudhanvasp\\appdata\\local\\programs\\python\\python311\\lib\\site-packages (from pandas<3.0,>=1.0->gradio) (2023.3)\n",
      "Requirement already satisfied: annotated-types>=0.4.0 in c:\\users\\sudhanvasp\\appdata\\local\\programs\\python\\python311\\lib\\site-packages (from pydantic!=1.8,!=1.8.1,!=2.0.0,!=2.0.1,<3.0.0,>=1.7.4->gradio) (0.5.0)\n",
      "Requirement already satisfied: pydantic-core==2.6.3 in c:\\users\\sudhanvasp\\appdata\\local\\programs\\python\\python311\\lib\\site-packages (from pydantic!=1.8,!=1.8.1,!=2.0.0,!=2.0.1,<3.0.0,>=1.7.4->gradio) (2.6.3)\n",
      "Requirement already satisfied: charset-normalizer<4,>=2 in c:\\users\\sudhanvasp\\appdata\\local\\programs\\python\\python311\\lib\\site-packages (from requests~=2.0->gradio) (3.1.0)\n",
      "Requirement already satisfied: idna<4,>=2.5 in c:\\users\\sudhanvasp\\appdata\\local\\programs\\python\\python311\\lib\\site-packages (from requests~=2.0->gradio) (2.10)\n",
      "Requirement already satisfied: urllib3<3,>=1.21.1 in c:\\users\\sudhanvasp\\appdata\\local\\programs\\python\\python311\\lib\\site-packages (from requests~=2.0->gradio) (1.26.15)\n",
      "Requirement already satisfied: certifi>=2017.4.17 in c:\\users\\sudhanvasp\\appdata\\local\\programs\\python\\python311\\lib\\site-packages (from requests~=2.0->gradio) (2022.12.7)\n",
      "Requirement already satisfied: click>=7.0 in c:\\users\\sudhanvasp\\appdata\\local\\programs\\python\\python311\\lib\\site-packages (from uvicorn>=0.14.0->gradio) (8.1.7)\n",
      "Requirement already satisfied: h11>=0.8 in c:\\users\\sudhanvasp\\appdata\\local\\programs\\python\\python311\\lib\\site-packages (from uvicorn>=0.14.0->gradio) (0.14.0)\n",
      "Requirement already satisfied: anyio<4.0.0,>=3.7.1 in c:\\users\\sudhanvasp\\appdata\\local\\programs\\python\\python311\\lib\\site-packages (from fastapi->gradio) (3.7.1)\n",
      "Requirement already satisfied: starlette<0.28.0,>=0.27.0 in c:\\users\\sudhanvasp\\appdata\\local\\programs\\python\\python311\\lib\\site-packages (from fastapi->gradio) (0.27.0)\n",
      "Requirement already satisfied: httpcore<0.18.0,>=0.15.0 in c:\\users\\sudhanvasp\\appdata\\local\\programs\\python\\python311\\lib\\site-packages (from httpx->gradio) (0.17.0)\n",
      "Requirement already satisfied: sniffio in c:\\users\\sudhanvasp\\appdata\\local\\programs\\python\\python311\\lib\\site-packages (from httpx->gradio) (1.3.0)\n",
      "Requirement already satisfied: colorama in c:\\users\\sudhanvasp\\appdata\\local\\programs\\python\\python311\\lib\\site-packages (from click>=7.0->uvicorn>=0.14.0->gradio) (0.4.6)\n",
      "Requirement already satisfied: attrs>=22.2.0 in c:\\users\\sudhanvasp\\appdata\\local\\programs\\python\\python311\\lib\\site-packages (from jsonschema>=3.0->altair<6.0,>=4.2.0->gradio) (23.1.0)\n",
      "Requirement already satisfied: jsonschema-specifications>=2023.03.6 in c:\\users\\sudhanvasp\\appdata\\local\\programs\\python\\python311\\lib\\site-packages (from jsonschema>=3.0->altair<6.0,>=4.2.0->gradio) (2023.7.1)\n",
      "Requirement already satisfied: referencing>=0.28.4 in c:\\users\\sudhanvasp\\appdata\\local\\programs\\python\\python311\\lib\\site-packages (from jsonschema>=3.0->altair<6.0,>=4.2.0->gradio) (0.30.2)\n",
      "Requirement already satisfied: rpds-py>=0.7.1 in c:\\users\\sudhanvasp\\appdata\\local\\programs\\python\\python311\\lib\\site-packages (from jsonschema>=3.0->altair<6.0,>=4.2.0->gradio) (0.10.2)\n",
      "Installing collected packages: multitasking, appdirs, requests, lxml, html5lib, frozendict, yfinance\n",
      "  Attempting uninstall: requests\n",
      "    Found existing installation: requests 2.28.2\n",
      "    Uninstalling requests-2.28.2:\n",
      "      Successfully uninstalled requests-2.28.2\n",
      "Successfully installed appdirs-1.4.4 frozendict-2.3.8 html5lib-1.1 lxml-4.9.3 multitasking-0.0.11 requests-2.31.0 yfinance-0.2.28\n",
      "Note: you may need to restart the kernel to use updated packages.\n"
     ]
    },
    {
     "name": "stderr",
     "output_type": "stream",
     "text": [
      "\n",
      "[notice] A new release of pip is available: 23.1.2 -> 23.2.1\n",
      "[notice] To update, run: python.exe -m pip install --upgrade pip\n"
     ]
    }
   ],
   "source": [
    "%pip install transformers\n",
    "%pip install scipy\n",
    "%pip install gradio\n",
    "%pip install gradio plotly yfinance\n"
   ]
  },
  {
   "cell_type": "code",
   "execution_count": 11,
   "metadata": {},
   "outputs": [],
   "source": [
    "from transformers import AutoTokenizer, AutoModelForSequenceClassification\n",
    "from scipy.special import softmax\n",
    "import gradio as gr\n",
    "import yfinance as yf\n",
    "import plotly.express as px\n",
    "from plotly.offline import plot\n"
   ]
  },
  {
   "cell_type": "code",
   "execution_count": 12,
   "metadata": {},
   "outputs": [],
   "source": [
    "def get_stock_data(stock_symbol, period=\"1d\"):\n",
    "    stock = yf.Ticker(stock_symbol)\n",
    "    data = stock.history(period=period)\n",
    "    return data\n",
    "\n",
    "# Function to visualize stock data using Plotly\n",
    "def visualize_stock_data(stock_data):\n",
    "    fig = px.line(stock_data, x=stock_data.index, y=\"Close\", title=\"Stock Price Trend\")\n",
    "    plot_div = plot(fig, output_type=\"div\", include_plotlyjs=False)\n",
    "    return plot_div"
   ]
  },
  {
   "cell_type": "markdown",
   "metadata": {},
   "source": [
    "The model was trained when username was denoted as @user and the links are replaced with http. So we bow down to the arbitary model throwing tantrums and satisfy its wishes"
   ]
  },
  {
   "cell_type": "code",
   "execution_count": 7,
   "metadata": {},
   "outputs": [],
   "source": [
    "\n",
    "# preprocess tweet as function\n",
    "def preprocess(tweet):\n",
    "    tweet_words = []\n",
    "\n",
    "    for word in tweet.split(' '):\n",
    "        if word.startswith('@') and len(word) > 1:\n",
    "            word = '@user'\n",
    "        \n",
    "        elif word.startswith('http'):\n",
    "            word = \"http\"\n",
    "        tweet_words.append(word)\n",
    "\n",
    "    tweet_proc = \" \".join(tweet_words)\n",
    "    return tweet_proc\n"
   ]
  },
  {
   "cell_type": "code",
   "execution_count": 8,
   "metadata": {},
   "outputs": [
    {
     "name": "stderr",
     "output_type": "stream",
     "text": [
      "Some weights of the model checkpoint at sudhanvasp/Sentiment-Analysis were not used when initializing RobertaForSequenceClassification: ['roberta.pooler.dense.weight', 'roberta.pooler.dense.bias']\n",
      "- This IS expected if you are initializing RobertaForSequenceClassification from the checkpoint of a model trained on another task or with another architecture (e.g. initializing a BertForSequenceClassification model from a BertForPreTraining model).\n",
      "- This IS NOT expected if you are initializing RobertaForSequenceClassification from the checkpoint of a model that you expect to be exactly identical (initializing a BertForSequenceClassification model from a BertForSequenceClassification model).\n"
     ]
    }
   ],
   "source": [
    "# load model and tokenizer\n",
    "#roberta = \"cardiffnlp/twitter-roberta-base-sentiment\" this is the base model\n",
    "roberta = \"sudhanvasp/Sentiment-Analysis\" #this is the custom model that utilizes the base model with additional parameters to improve accuracy and performance\n",
    "\n",
    "\n",
    "model = AutoModelForSequenceClassification.from_pretrained(roberta)\n",
    "tokenizer = AutoTokenizer.from_pretrained(roberta)\n",
    "\n",
    "labels = ['Negative', 'Neutral', 'Positive']\n"
   ]
  },
  {
   "cell_type": "code",
   "execution_count": null,
   "metadata": {},
   "outputs": [],
   "source": [
    "#output as a function if you dont want gradio\n",
    "def sentiment(encoded_tweet):\n",
    "        tweet_proc = preprocess(tweet)\n",
    "        encoded_tweet = tokenizer(tweet_proc, return_tensors='pt')\n",
    "\n",
    "        output = model(**encoded_tweet)\n",
    "\n",
    "        scores = output[0][0].detach().numpy()\n",
    "        scores = softmax(scores)\n",
    "        #storing labels and scores in a dictionary in one line\n",
    "        results = dict(zip(labels, scores))\n",
    "         #print max score and label of the tweet\n",
    "        print(\"Tweet: \", tweet)\n",
    "        print(\"Sentiment: \", labels[scores.argmax()], scores.max())\n",
    "        print(\"\\n\\n\")\n",
    "        print(\"In detail: \")\n",
    "        return results\n",
    "def nograd():\n",
    "        for i in range(0,5):\n",
    "                tweet = input(\"Enter a tweet: \")\n",
    "                tweet_proc = preprocess(tweet)\n",
    "                encoded_tweet = tokenizer(tweet_proc, return_tensors='pt')\n",
    "                sentiment(encoded_tweet)\n",
    "                        \n",
    "\n",
    "        \n",
    "    "
   ]
  },
  {
   "cell_type": "code",
   "execution_count": 9,
   "metadata": {},
   "outputs": [],
   "source": [
    "\n",
    "\n",
    "# Define the Gradio interface\n",
    "def predict_sentiment(tweet):\n",
    "    tweet_proc = preprocess(tweet)\n",
    "    encoded_tweet = tokenizer(tweet_proc, return_tensors='pt')\n",
    "\n",
    "    output = model(**encoded_tweet)\n",
    "\n",
    "    scores = output[0][0].detach().numpy()\n",
    "    scores = softmax(scores)\n",
    "\n",
    "    # Get the sentiment label and score\n",
    "    sentiment_label = labels[scores.argmax()]\n",
    "    sentiment_score = scores.max()\n",
    "\n",
    "    return sentiment_label, sentiment_score\n"
   ]
  },
  {
   "cell_type": "code",
   "execution_count": null,
   "metadata": {},
   "outputs": [],
   "source": [
    "\n",
    "# Create a Gradio interface\n",
    "iface = gr.Interface(\n",
    "    fn=predict_sentiment,\n",
    "    inputs=\"text\",\n",
    "    outputs=[gr.components.Textbox(label=\"Sentiment Label\"),gr.components.Textbox(label=\"Sentiment Score\")],\n",
    "    title=\"Sentiment Analysis\",\n",
    "    description=\"Enter a tweet, and this model will predict its sentiment.\",\n",
    ")\n",
    "\n",
    "# Launch the Gradio interface\n",
    "#iface.launch(share=True)\n",
    "iface.launch()"
   ]
  },
  {
   "cell_type": "code",
   "execution_count": 18,
   "metadata": {},
   "outputs": [
    {
     "name": "stderr",
     "output_type": "stream",
     "text": [
      "C:\\Users\\sudhanvasp\\AppData\\Local\\Temp\\ipykernel_30752\\1094688662.py:3: GradioDeprecationWarning:\n",
      "\n",
      "Usage of gradio.inputs is deprecated, and will not be supported in the future, please import your component from gradio.components\n",
      "\n",
      "C:\\Users\\sudhanvasp\\AppData\\Local\\Temp\\ipykernel_30752\\1094688662.py:3: GradioDeprecationWarning:\n",
      "\n",
      "`optional` parameter is deprecated, and it has no effect\n",
      "\n",
      "C:\\Users\\sudhanvasp\\AppData\\Local\\Temp\\ipykernel_30752\\1094688662.py:3: GradioDeprecationWarning:\n",
      "\n",
      "`numeric` parameter is deprecated, and it has no effect\n",
      "\n",
      "C:\\Users\\sudhanvasp\\AppData\\Local\\Temp\\ipykernel_30752\\1094688662.py:4: GradioDeprecationWarning:\n",
      "\n",
      "Usage of gradio.outputs is deprecated, and will not be supported in the future, please import your components from gradio.components\n",
      "\n",
      "C:\\Users\\sudhanvasp\\AppData\\Local\\Temp\\ipykernel_30752\\1094688662.py:13: GradioDeprecationWarning:\n",
      "\n",
      "Usage of gradio.inputs is deprecated, and will not be supported in the future, please import your component from gradio.components\n",
      "\n",
      "C:\\Users\\sudhanvasp\\AppData\\Local\\Temp\\ipykernel_30752\\1094688662.py:13: GradioDeprecationWarning:\n",
      "\n",
      "`optional` parameter is deprecated, and it has no effect\n",
      "\n",
      "C:\\Users\\sudhanvasp\\AppData\\Local\\Temp\\ipykernel_30752\\1094688662.py:13: GradioDeprecationWarning:\n",
      "\n",
      "`numeric` parameter is deprecated, and it has no effect\n",
      "\n"
     ]
    },
    {
     "name": "stdout",
     "output_type": "stream",
     "text": [
      "Running on local URL:  http://127.0.0.1:7862\n",
      "\n",
      "To create a public link, set `share=True` in `launch()`.\n"
     ]
    },
    {
     "data": {
      "text/html": [
       "<div><iframe src=\"http://127.0.0.1:7862/\" width=\"100%\" height=\"500\" allow=\"autoplay; camera; microphone; clipboard-read; clipboard-write;\" frameborder=\"0\" allowfullscreen></iframe></div>"
      ],
      "text/plain": [
       "<IPython.core.display.HTML object>"
      ]
     },
     "metadata": {},
     "output_type": "display_data"
    },
    {
     "name": "stdout",
     "output_type": "stream",
     "text": [
      "Running on local URL:  http://127.0.0.1:7863\n",
      "\n",
      "To create a public link, set `share=True` in `launch()`.\n"
     ]
    },
    {
     "data": {
      "text/html": [
       "<div><iframe src=\"http://127.0.0.1:7863/\" width=\"100%\" height=\"500\" allow=\"autoplay; camera; microphone; clipboard-read; clipboard-write;\" frameborder=\"0\" allowfullscreen></iframe></div>"
      ],
      "text/plain": [
       "<IPython.core.display.HTML object>"
      ]
     },
     "metadata": {},
     "output_type": "display_data"
    },
    {
     "data": {
      "text/plain": []
     },
     "execution_count": 18,
     "metadata": {},
     "output_type": "execute_result"
    }
   ],
   "source": [
    "sentiment_iface = gr.Interface(\n",
    "    fn=predict_sentiment,\n",
    "    inputs=gr.inputs.Textbox(label=\"Enter a tweet for Sentiment Analysis\"),\n",
    "    outputs=[gr.outputs.Textbox(label=\"Sentiment Label\"), gr.outputs.Textbox(label=\"Sentiment Score\")],\n",
    "    live=True,\n",
    "    title=\"Sentiment Analysis\",\n",
    "    description=\"Enter a tweet to predict sentiment.\",\n",
    ")\n",
    "\n",
    "# Create Gradio interface for stock data visualization\n",
    "stock_iface = gr.Interface(\n",
    "    fn=get_stock_data,\n",
    "    inputs=gr.inputs.Textbox(label=\"Enter Stock Symbol (e.g., AAPL) for Stock Trends\"),\n",
    "    outputs=gr.outputs.HTML(label=\"Stock Price Trend\"),\n",
    "    live=True,\n",
    "    title=\"Stock Market Trends\",\n",
    "    description=\"Enter a stock symbol to visualize its price trend.\",\n",
    ")\n",
    "\n",
    "# Launch the Gradio interfaces\n",
    "sentiment_iface.launch()\n",
    "stock_iface.launch()"
   ]
  },
  {
   "cell_type": "code",
   "execution_count": null,
   "metadata": {},
   "outputs": [],
   "source": []
  }
 ],
 "metadata": {
  "kernelspec": {
   "display_name": "Python 3",
   "language": "python",
   "name": "python3"
  },
  "language_info": {
   "codemirror_mode": {
    "name": "ipython",
    "version": 3
   },
   "file_extension": ".py",
   "mimetype": "text/x-python",
   "name": "python",
   "nbconvert_exporter": "python",
   "pygments_lexer": "ipython3",
   "version": "3.11.2"
  },
  "orig_nbformat": 4
 },
 "nbformat": 4,
 "nbformat_minor": 2
}
